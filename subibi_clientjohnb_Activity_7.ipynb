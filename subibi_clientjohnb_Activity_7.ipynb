{
 "cells": [
  {
   "cell_type": "code",
   "execution_count": 210,
   "metadata": {
    "ExecuteTime": {
     "end_time": "2023-04-01T00:55:17.558898Z",
     "start_time": "2023-04-01T00:55:17.525417Z"
    },
    "collapsed": false
   },
   "outputs": [],
   "source": [
    "# Libraries needed\n",
    "import pandas as pd\n",
    "from sklearn.model_selection import train_test_split\n",
    "from sklearn.linear_model import LogisticRegression\n",
    "from sklearn.preprocessing import StandardScaler\n",
    "import seaborn as sns\n",
    "import matplotlib.pyplot as plt "
   ]
  },
  {
   "cell_type": "code",
   "execution_count": 211,
   "metadata": {
    "ExecuteTime": {
     "end_time": "2023-04-01T00:55:17.621716Z",
     "start_time": "2023-04-01T00:55:17.535390Z"
    },
    "collapsed": true
   },
   "outputs": [
    {
     "data": {
      "text/html": [
       "<div>\n",
       "<style scoped>\n",
       "    .dataframe tbody tr th:only-of-type {\n",
       "        vertical-align: middle;\n",
       "    }\n",
       "\n",
       "    .dataframe tbody tr th {\n",
       "        vertical-align: top;\n",
       "    }\n",
       "\n",
       "    .dataframe thead th {\n",
       "        text-align: right;\n",
       "    }\n",
       "</style>\n",
       "<table border=\"1\" class=\"dataframe\">\n",
       "  <thead>\n",
       "    <tr style=\"text-align: right;\">\n",
       "      <th></th>\n",
       "      <th>sepal_length</th>\n",
       "      <th>sepal_width</th>\n",
       "      <th>petal_length</th>\n",
       "      <th>petal_width</th>\n",
       "      <th>species</th>\n",
       "    </tr>\n",
       "  </thead>\n",
       "  <tbody>\n",
       "    <tr>\n",
       "      <th>0</th>\n",
       "      <td>5.1</td>\n",
       "      <td>3.5</td>\n",
       "      <td>1.4</td>\n",
       "      <td>0.2</td>\n",
       "      <td>setosa</td>\n",
       "    </tr>\n",
       "    <tr>\n",
       "      <th>1</th>\n",
       "      <td>4.9</td>\n",
       "      <td>3.0</td>\n",
       "      <td>1.4</td>\n",
       "      <td>0.2</td>\n",
       "      <td>setosa</td>\n",
       "    </tr>\n",
       "    <tr>\n",
       "      <th>2</th>\n",
       "      <td>4.7</td>\n",
       "      <td>3.2</td>\n",
       "      <td>1.3</td>\n",
       "      <td>0.2</td>\n",
       "      <td>setosa</td>\n",
       "    </tr>\n",
       "    <tr>\n",
       "      <th>3</th>\n",
       "      <td>4.6</td>\n",
       "      <td>3.1</td>\n",
       "      <td>1.5</td>\n",
       "      <td>0.2</td>\n",
       "      <td>setosa</td>\n",
       "    </tr>\n",
       "    <tr>\n",
       "      <th>4</th>\n",
       "      <td>5.0</td>\n",
       "      <td>3.6</td>\n",
       "      <td>1.4</td>\n",
       "      <td>0.2</td>\n",
       "      <td>setosa</td>\n",
       "    </tr>\n",
       "    <tr>\n",
       "      <th>5</th>\n",
       "      <td>5.4</td>\n",
       "      <td>3.9</td>\n",
       "      <td>1.7</td>\n",
       "      <td>0.4</td>\n",
       "      <td>setosa</td>\n",
       "    </tr>\n",
       "    <tr>\n",
       "      <th>6</th>\n",
       "      <td>4.6</td>\n",
       "      <td>3.4</td>\n",
       "      <td>1.4</td>\n",
       "      <td>0.3</td>\n",
       "      <td>setosa</td>\n",
       "    </tr>\n",
       "    <tr>\n",
       "      <th>7</th>\n",
       "      <td>5.0</td>\n",
       "      <td>3.4</td>\n",
       "      <td>1.5</td>\n",
       "      <td>0.2</td>\n",
       "      <td>setosa</td>\n",
       "    </tr>\n",
       "    <tr>\n",
       "      <th>8</th>\n",
       "      <td>4.4</td>\n",
       "      <td>2.9</td>\n",
       "      <td>1.4</td>\n",
       "      <td>0.2</td>\n",
       "      <td>setosa</td>\n",
       "    </tr>\n",
       "    <tr>\n",
       "      <th>9</th>\n",
       "      <td>4.9</td>\n",
       "      <td>3.1</td>\n",
       "      <td>1.5</td>\n",
       "      <td>0.1</td>\n",
       "      <td>setosa</td>\n",
       "    </tr>\n",
       "  </tbody>\n",
       "</table>\n",
       "</div>"
      ],
      "text/plain": [
       "   sepal_length  sepal_width  petal_length  petal_width species\n",
       "0           5.1          3.5           1.4          0.2  setosa\n",
       "1           4.9          3.0           1.4          0.2  setosa\n",
       "2           4.7          3.2           1.3          0.2  setosa\n",
       "3           4.6          3.1           1.5          0.2  setosa\n",
       "4           5.0          3.6           1.4          0.2  setosa\n",
       "5           5.4          3.9           1.7          0.4  setosa\n",
       "6           4.6          3.4           1.4          0.3  setosa\n",
       "7           5.0          3.4           1.5          0.2  setosa\n",
       "8           4.4          2.9           1.4          0.2  setosa\n",
       "9           4.9          3.1           1.5          0.1  setosa"
      ]
     },
     "execution_count": 211,
     "metadata": {},
     "output_type": "execute_result"
    }
   ],
   "source": [
    "# Read & Load CSV File\n",
    "data = pd.read_csv('iris.csv')\n",
    "data.head(10)"
   ]
  },
  {
   "cell_type": "code",
   "execution_count": 212,
   "metadata": {},
   "outputs": [
    {
     "name": "stdout",
     "output_type": "stream",
     "text": [
      "['sepal_length', 'sepal_width', 'petal_length', 'petal_width', 'species']\n"
     ]
    }
   ],
   "source": [
    "# Get columns\n",
    "print(list(data.columns))"
   ]
  },
  {
   "cell_type": "code",
   "execution_count": 213,
   "metadata": {},
   "outputs": [
    {
     "data": {
      "image/png": "[encoded data removed]",
      "text/plain": [
       "<Figure size 640x480 with 1 Axes>"
      ]
     },
     "metadata": {},
     "output_type": "display_data"
    },
    {
     "data": {
      "text/plain": [
       "<Figure size 640x480 with 0 Axes>"
      ]
     },
     "metadata": {},
     "output_type": "display_data"
    }
   ],
   "source": [
    "# Count number of species\n",
    "data['species'].value_counts()\n",
    "sns.countplot(x='species', data=data, palette='hls')\n",
    "plt.show()\n",
    "plt.savefig('count_plot')"
   ]
  },
  {
   "cell_type": "code",
   "execution_count": 214,
   "metadata": {
    "ExecuteTime": {
     "end_time": "2023-04-01T00:55:17.622712Z",
     "start_time": "2023-04-01T00:55:17.562817Z"
    },
    "collapsed": false
   },
   "outputs": [],
   "source": [
    "# Convert species parameter into numerical value\n",
    "data[\"species\"] = data [\"species\"].astype(\"category\")\n",
    "data[\"species\"] = data [\"species\"].cat.codes"
   ]
  },
  {
   "cell_type": "code",
   "execution_count": 215,
   "metadata": {},
   "outputs": [
    {
     "data": {
      "text/plain": [
       "0      0\n",
       "1      0\n",
       "2      0\n",
       "3      0\n",
       "4      0\n",
       "      ..\n",
       "145    2\n",
       "146    2\n",
       "147    2\n",
       "148    2\n",
       "149    2\n",
       "Name: species, Length: 150, dtype: int8"
      ]
     },
     "execution_count": 215,
     "metadata": {},
     "output_type": "execute_result"
    }
   ],
   "source": [
    "# 0 = setosa, 1 = versicolor, 2 = virginica\n",
    "# This makes it possible for the logistic regression code below to easily check for accuracy\n",
    "data['species']"
   ]
  },
  {
   "cell_type": "code",
   "execution_count": 216,
   "metadata": {
    "ExecuteTime": {
     "end_time": "2023-04-01T00:55:17.622712Z",
     "start_time": "2023-04-01T00:55:17.579916Z"
    },
    "collapsed": false
   },
   "outputs": [
    {
     "data": {
      "text/html": [
       "<div>\n",
       "<style scoped>\n",
       "    .dataframe tbody tr th:only-of-type {\n",
       "        vertical-align: middle;\n",
       "    }\n",
       "\n",
       "    .dataframe tbody tr th {\n",
       "        vertical-align: top;\n",
       "    }\n",
       "\n",
       "    .dataframe thead th {\n",
       "        text-align: right;\n",
       "    }\n",
       "</style>\n",
       "<table border=\"1\" class=\"dataframe\">\n",
       "  <thead>\n",
       "    <tr style=\"text-align: right;\">\n",
       "      <th></th>\n",
       "      <th>sepal_length</th>\n",
       "      <th>sepal_width</th>\n",
       "      <th>petal_length</th>\n",
       "      <th>petal_width</th>\n",
       "    </tr>\n",
       "  </thead>\n",
       "  <tbody>\n",
       "    <tr>\n",
       "      <th>0</th>\n",
       "      <td>5.1</td>\n",
       "      <td>3.5</td>\n",
       "      <td>1.4</td>\n",
       "      <td>0.2</td>\n",
       "    </tr>\n",
       "    <tr>\n",
       "      <th>1</th>\n",
       "      <td>4.9</td>\n",
       "      <td>3.0</td>\n",
       "      <td>1.4</td>\n",
       "      <td>0.2</td>\n",
       "    </tr>\n",
       "    <tr>\n",
       "      <th>2</th>\n",
       "      <td>4.7</td>\n",
       "      <td>3.2</td>\n",
       "      <td>1.3</td>\n",
       "      <td>0.2</td>\n",
       "    </tr>\n",
       "    <tr>\n",
       "      <th>3</th>\n",
       "      <td>4.6</td>\n",
       "      <td>3.1</td>\n",
       "      <td>1.5</td>\n",
       "      <td>0.2</td>\n",
       "    </tr>\n",
       "    <tr>\n",
       "      <th>4</th>\n",
       "      <td>5.0</td>\n",
       "      <td>3.6</td>\n",
       "      <td>1.4</td>\n",
       "      <td>0.2</td>\n",
       "    </tr>\n",
       "    <tr>\n",
       "      <th>...</th>\n",
       "      <td>...</td>\n",
       "      <td>...</td>\n",
       "      <td>...</td>\n",
       "      <td>...</td>\n",
       "    </tr>\n",
       "    <tr>\n",
       "      <th>145</th>\n",
       "      <td>6.7</td>\n",
       "      <td>3.0</td>\n",
       "      <td>5.2</td>\n",
       "      <td>2.3</td>\n",
       "    </tr>\n",
       "    <tr>\n",
       "      <th>146</th>\n",
       "      <td>6.3</td>\n",
       "      <td>2.5</td>\n",
       "      <td>5.0</td>\n",
       "      <td>1.9</td>\n",
       "    </tr>\n",
       "    <tr>\n",
       "      <th>147</th>\n",
       "      <td>6.5</td>\n",
       "      <td>3.0</td>\n",
       "      <td>5.2</td>\n",
       "      <td>2.0</td>\n",
       "    </tr>\n",
       "    <tr>\n",
       "      <th>148</th>\n",
       "      <td>6.2</td>\n",
       "      <td>3.4</td>\n",
       "      <td>5.4</td>\n",
       "      <td>2.3</td>\n",
       "    </tr>\n",
       "    <tr>\n",
       "      <th>149</th>\n",
       "      <td>5.9</td>\n",
       "      <td>3.0</td>\n",
       "      <td>5.1</td>\n",
       "      <td>1.8</td>\n",
       "    </tr>\n",
       "  </tbody>\n",
       "</table>\n",
       "<p>150 rows × 4 columns</p>\n",
       "</div>"
      ],
      "text/plain": [
       "     sepal_length  sepal_width  petal_length  petal_width\n",
       "0             5.1          3.5           1.4          0.2\n",
       "1             4.9          3.0           1.4          0.2\n",
       "2             4.7          3.2           1.3          0.2\n",
       "3             4.6          3.1           1.5          0.2\n",
       "4             5.0          3.6           1.4          0.2\n",
       "..            ...          ...           ...          ...\n",
       "145           6.7          3.0           5.2          2.3\n",
       "146           6.3          2.5           5.0          1.9\n",
       "147           6.5          3.0           5.2          2.0\n",
       "148           6.2          3.4           5.4          2.3\n",
       "149           5.9          3.0           5.1          1.8\n",
       "\n",
       "[150 rows x 4 columns]"
      ]
     },
     "execution_count": 216,
     "metadata": {},
     "output_type": "execute_result"
    }
   ],
   "source": [
    "# Drop species column then assign the parameters that are left to X\n",
    "# X are the predictor variables (sepal_length, sepal_width, petal_length, and petal_width)\n",
    "X = data.drop(columns= \"species\")\n",
    "X"
   ]
  },
  {
   "cell_type": "code",
   "execution_count": 217,
   "metadata": {
    "ExecuteTime": {
     "end_time": "2023-04-01T00:55:17.622712Z",
     "start_time": "2023-04-01T00:55:17.596843Z"
    },
    "collapsed": false
   },
   "outputs": [],
   "source": [
    "# Assign the species parameter into Y\n",
    "# Y means the dependent variable\n",
    "Y = data[\"species\"]"
   ]
  },
  {
   "cell_type": "code",
   "execution_count": 218,
   "metadata": {
    "ExecuteTime": {
     "end_time": "2023-04-01T00:55:17.635661Z",
     "start_time": "2023-04-01T00:55:17.612376Z"
    },
    "collapsed": false
   },
   "outputs": [],
   "source": [
    "# Split the dataset into two which is training dataset and test dataset\n",
    "# Set test size to 0.9 which means the test size will be 90% of the whole dataset and the other 10% will be for training\n",
    "# You can also set this to a different ratio. A lower test size will result in a higher training size and better accuracy when making predictions\n",
    "# Set the random state to 1 to keep the randomly generated values\n",
    "X_train, X_test, Y_train, Y_test = train_test_split(X,Y, test_size= 0.9, random_state = 1 )"
   ]
  },
  {
   "cell_type": "code",
   "execution_count": 219,
   "metadata": {
    "ExecuteTime": {
     "end_time": "2023-04-01T00:55:17.643640Z",
     "start_time": "2023-04-01T00:55:17.625689Z"
    },
    "collapsed": false
   },
   "outputs": [
    {
     "data": {
      "text/html": [
       "<div>\n",
       "<style scoped>\n",
       "    .dataframe tbody tr th:only-of-type {\n",
       "        vertical-align: middle;\n",
       "    }\n",
       "\n",
       "    .dataframe tbody tr th {\n",
       "        vertical-align: top;\n",
       "    }\n",
       "\n",
       "    .dataframe thead th {\n",
       "        text-align: right;\n",
       "    }\n",
       "</style>\n",
       "<table border=\"1\" class=\"dataframe\">\n",
       "  <thead>\n",
       "    <tr style=\"text-align: right;\">\n",
       "      <th></th>\n",
       "      <th>sepal_length</th>\n",
       "      <th>sepal_width</th>\n",
       "      <th>petal_length</th>\n",
       "      <th>petal_width</th>\n",
       "    </tr>\n",
       "  </thead>\n",
       "  <tbody>\n",
       "    <tr>\n",
       "      <th>96</th>\n",
       "      <td>5.7</td>\n",
       "      <td>2.9</td>\n",
       "      <td>4.2</td>\n",
       "      <td>1.3</td>\n",
       "    </tr>\n",
       "    <tr>\n",
       "      <th>68</th>\n",
       "      <td>6.2</td>\n",
       "      <td>2.2</td>\n",
       "      <td>4.5</td>\n",
       "      <td>1.5</td>\n",
       "    </tr>\n",
       "    <tr>\n",
       "      <th>50</th>\n",
       "      <td>7.0</td>\n",
       "      <td>3.2</td>\n",
       "      <td>4.7</td>\n",
       "      <td>1.4</td>\n",
       "    </tr>\n",
       "    <tr>\n",
       "      <th>101</th>\n",
       "      <td>5.8</td>\n",
       "      <td>2.7</td>\n",
       "      <td>5.1</td>\n",
       "      <td>1.9</td>\n",
       "    </tr>\n",
       "    <tr>\n",
       "      <th>20</th>\n",
       "      <td>5.4</td>\n",
       "      <td>3.4</td>\n",
       "      <td>1.7</td>\n",
       "      <td>0.2</td>\n",
       "    </tr>\n",
       "    <tr>\n",
       "      <th>25</th>\n",
       "      <td>5.0</td>\n",
       "      <td>3.0</td>\n",
       "      <td>1.6</td>\n",
       "      <td>0.2</td>\n",
       "    </tr>\n",
       "    <tr>\n",
       "      <th>134</th>\n",
       "      <td>6.1</td>\n",
       "      <td>2.6</td>\n",
       "      <td>5.6</td>\n",
       "      <td>1.4</td>\n",
       "    </tr>\n",
       "    <tr>\n",
       "      <th>71</th>\n",
       "      <td>6.1</td>\n",
       "      <td>2.8</td>\n",
       "      <td>4.0</td>\n",
       "      <td>1.3</td>\n",
       "    </tr>\n",
       "    <tr>\n",
       "      <th>129</th>\n",
       "      <td>7.2</td>\n",
       "      <td>3.0</td>\n",
       "      <td>5.8</td>\n",
       "      <td>1.6</td>\n",
       "    </tr>\n",
       "    <tr>\n",
       "      <th>79</th>\n",
       "      <td>5.7</td>\n",
       "      <td>2.6</td>\n",
       "      <td>3.5</td>\n",
       "      <td>1.0</td>\n",
       "    </tr>\n",
       "  </tbody>\n",
       "</table>\n",
       "</div>"
      ],
      "text/plain": [
       "     sepal_length  sepal_width  petal_length  petal_width\n",
       "96            5.7          2.9           4.2          1.3\n",
       "68            6.2          2.2           4.5          1.5\n",
       "50            7.0          3.2           4.7          1.4\n",
       "101           5.8          2.7           5.1          1.9\n",
       "20            5.4          3.4           1.7          0.2\n",
       "25            5.0          3.0           1.6          0.2\n",
       "134           6.1          2.6           5.6          1.4\n",
       "71            6.1          2.8           4.0          1.3\n",
       "129           7.2          3.0           5.8          1.6\n",
       "79            5.7          2.6           3.5          1.0"
      ]
     },
     "execution_count": 219,
     "metadata": {},
     "output_type": "execute_result"
    }
   ],
   "source": [
    "# Display 10 records of training dataset of X\n",
    "X_train.head(10)"
   ]
  },
  {
   "cell_type": "code",
   "execution_count": 220,
   "metadata": {
    "ExecuteTime": {
     "end_time": "2023-04-01T00:55:17.763894Z",
     "start_time": "2023-04-01T00:55:17.642643Z"
    },
    "collapsed": false
   },
   "outputs": [
    {
     "data": {
      "text/html": [
       "<div>\n",
       "<style scoped>\n",
       "    .dataframe tbody tr th:only-of-type {\n",
       "        vertical-align: middle;\n",
       "    }\n",
       "\n",
       "    .dataframe tbody tr th {\n",
       "        vertical-align: top;\n",
       "    }\n",
       "\n",
       "    .dataframe thead th {\n",
       "        text-align: right;\n",
       "    }\n",
       "</style>\n",
       "<table border=\"1\" class=\"dataframe\">\n",
       "  <thead>\n",
       "    <tr style=\"text-align: right;\">\n",
       "      <th></th>\n",
       "      <th>sepal_length</th>\n",
       "      <th>sepal_width</th>\n",
       "      <th>petal_length</th>\n",
       "      <th>petal_width</th>\n",
       "    </tr>\n",
       "  </thead>\n",
       "  <tbody>\n",
       "    <tr>\n",
       "      <th>14</th>\n",
       "      <td>5.8</td>\n",
       "      <td>4.0</td>\n",
       "      <td>1.2</td>\n",
       "      <td>0.2</td>\n",
       "    </tr>\n",
       "    <tr>\n",
       "      <th>98</th>\n",
       "      <td>5.1</td>\n",
       "      <td>2.5</td>\n",
       "      <td>3.0</td>\n",
       "      <td>1.1</td>\n",
       "    </tr>\n",
       "    <tr>\n",
       "      <th>75</th>\n",
       "      <td>6.6</td>\n",
       "      <td>3.0</td>\n",
       "      <td>4.4</td>\n",
       "      <td>1.4</td>\n",
       "    </tr>\n",
       "    <tr>\n",
       "      <th>16</th>\n",
       "      <td>5.4</td>\n",
       "      <td>3.9</td>\n",
       "      <td>1.3</td>\n",
       "      <td>0.4</td>\n",
       "    </tr>\n",
       "    <tr>\n",
       "      <th>131</th>\n",
       "      <td>7.9</td>\n",
       "      <td>3.8</td>\n",
       "      <td>6.4</td>\n",
       "      <td>2.0</td>\n",
       "    </tr>\n",
       "    <tr>\n",
       "      <th>56</th>\n",
       "      <td>6.3</td>\n",
       "      <td>3.3</td>\n",
       "      <td>4.7</td>\n",
       "      <td>1.6</td>\n",
       "    </tr>\n",
       "    <tr>\n",
       "      <th>141</th>\n",
       "      <td>6.9</td>\n",
       "      <td>3.1</td>\n",
       "      <td>5.1</td>\n",
       "      <td>2.3</td>\n",
       "    </tr>\n",
       "    <tr>\n",
       "      <th>44</th>\n",
       "      <td>5.1</td>\n",
       "      <td>3.8</td>\n",
       "      <td>1.9</td>\n",
       "      <td>0.4</td>\n",
       "    </tr>\n",
       "    <tr>\n",
       "      <th>29</th>\n",
       "      <td>4.7</td>\n",
       "      <td>3.2</td>\n",
       "      <td>1.6</td>\n",
       "      <td>0.2</td>\n",
       "    </tr>\n",
       "    <tr>\n",
       "      <th>120</th>\n",
       "      <td>6.9</td>\n",
       "      <td>3.2</td>\n",
       "      <td>5.7</td>\n",
       "      <td>2.3</td>\n",
       "    </tr>\n",
       "  </tbody>\n",
       "</table>\n",
       "</div>"
      ],
      "text/plain": [
       "     sepal_length  sepal_width  petal_length  petal_width\n",
       "14            5.8          4.0           1.2          0.2\n",
       "98            5.1          2.5           3.0          1.1\n",
       "75            6.6          3.0           4.4          1.4\n",
       "16            5.4          3.9           1.3          0.4\n",
       "131           7.9          3.8           6.4          2.0\n",
       "56            6.3          3.3           4.7          1.6\n",
       "141           6.9          3.1           5.1          2.3\n",
       "44            5.1          3.8           1.9          0.4\n",
       "29            4.7          3.2           1.6          0.2\n",
       "120           6.9          3.2           5.7          2.3"
      ]
     },
     "execution_count": 220,
     "metadata": {},
     "output_type": "execute_result"
    }
   ],
   "source": [
    "# Display 10 records of testing dataset of X\n",
    "X_test.head(10)"
   ]
  },
  {
   "cell_type": "code",
   "execution_count": 221,
   "metadata": {
    "ExecuteTime": {
     "end_time": "2023-04-01T00:55:17.798801Z",
     "start_time": "2023-04-01T00:55:17.674557Z"
    },
    "collapsed": false
   },
   "outputs": [],
   "source": [
    "# Initialized StandardScaler module\n",
    "# Standard Scaler removes the mean and scaling to unit variance in order to avoid domination between datasets, refer to sklearn Standard Scaler for in dept explanation\n",
    "# (Part of data cleaning)\n",
    "scaler = StandardScaler()"
   ]
  },
  {
   "cell_type": "code",
   "execution_count": 222,
   "metadata": {
    "ExecuteTime": {
     "end_time": "2023-04-01T00:55:17.825754Z",
     "start_time": "2023-04-01T00:55:17.688521Z"
    },
    "collapsed": false
   },
   "outputs": [],
   "source": [
    "# Mean and Standard Deviation are stored earlier and can be used by doing transform\n",
    "X_train_sc = scaler.fit_transform(X_train)\n",
    "X_test_sc = scaler.transform(X_test)"
   ]
  },
  {
   "cell_type": "code",
   "execution_count": 223,
   "metadata": {
    "ExecuteTime": {
     "end_time": "2023-04-01T00:55:17.834702Z",
     "start_time": "2023-04-01T00:55:17.703512Z"
    },
    "collapsed": false
   },
   "outputs": [
    {
     "data": {
      "text/plain": [
       "array([[-0.55510317,  0.11097419, -0.0138136 ,  0.04220123],\n",
       "       [ 0.23042019, -2.21948381,  0.19339034,  0.35871046],\n",
       "       [ 1.48725756,  1.1097419 ,  0.33152629,  0.20045585],\n",
       "       [-0.3979985 , -0.55487095,  0.6077982 ,  0.99172893],\n",
       "       [-1.02641719,  1.77558705, -1.74051302, -1.69859955],\n",
       "       [-1.65483588,  0.44389676, -1.809581  , -1.69859955],\n",
       "       [ 0.07331551, -0.88779352,  0.95313808,  0.20045585],\n",
       "       [ 0.07331551, -0.22194838, -0.15194955,  0.04220123],\n",
       "       [ 1.80146691,  0.44389676,  1.09127404,  0.51696508],\n",
       "       [-0.55510317, -0.88779352, -0.49728943, -0.43256262],\n",
       "       [ 0.38752486, -0.22194838,  0.6077982 ,  0.35871046],\n",
       "       [ 0.54462953,  0.77681933,  0.88407011,  0.83347431],\n",
       "       [ 0.38752486, -1.22071609,  0.46966224,  0.35871046],\n",
       "       [ 1.01594355,  0.77681933,  0.95313808,  1.78300201],\n",
       "       [-1.81194055,  0.77681933, -1.87864897, -1.85685417]])"
      ]
     },
     "execution_count": 223,
     "metadata": {},
     "output_type": "execute_result"
    }
   ],
   "source": [
    "X_train_sc"
   ]
  },
  {
   "cell_type": "code",
   "execution_count": 224,
   "metadata": {
    "ExecuteTime": {
     "end_time": "2023-04-01T00:55:17.867639Z",
     "start_time": "2023-04-01T00:55:17.721466Z"
    },
    "collapsed": false
   },
   "outputs": [
    {
     "data": {
      "text/plain": [
       "array([[-0.3979985 ,  3.77312247, -2.08585291, -1.69859955],\n",
       "       [-1.49773121, -1.22071609, -0.84262932, -0.274308  ],\n",
       "       [ 0.85883887,  0.44389676,  0.12432236,  0.20045585],\n",
       "       [-1.02641719,  3.4401999 , -2.01678493, -1.38209032],\n",
       "       [ 2.90119961,  3.10727733,  1.5056819 ,  1.14998355],\n",
       "       [ 0.38752486,  1.44266448,  0.33152629,  0.51696508],\n",
       "       [ 1.33015289,  0.77681933,  0.6077982 ,  1.62474739],\n",
       "       [-1.49773121,  3.10727733, -1.60237707, -1.38209032],\n",
       "       [-2.1261499 ,  1.1097419 , -1.809581  , -1.69859955],\n",
       "       [ 1.33015289,  1.1097419 ,  1.02220606,  1.62474739],\n",
       "       [-0.71220785, -0.55487095, -0.0138136 ,  0.04220123],\n",
       "       [-1.02641719,  3.4401999 , -1.74051302, -1.38209032],\n",
       "       [ 1.64436224,  0.44389676,  1.16034201,  1.30823816],\n",
       "       [ 0.54462953,  1.1097419 ,  0.19339034,  0.35871046],\n",
       "       [-0.08378916,  0.11097419,  0.19339034,  0.35871046],\n",
       "       [-2.59746391,  1.1097419 , -2.01678493, -1.69859955],\n",
       "       [-0.3979985 , -0.88779352, -0.15194955, -0.11605339],\n",
       "       [-0.71220785,  0.44389676,  0.19339034,  0.35871046],\n",
       "       [-1.02641719,  1.77558705, -1.87864897, -1.38209032],\n",
       "       [-1.65483588,  1.1097419 , -2.08585291, -1.69859955],\n",
       "       [-0.86931252, -0.88779352,  0.12432236, -0.11605339],\n",
       "       [-1.02641719,  0.44389676,  0.19339034,  0.35871046],\n",
       "       [ 1.01594355,  0.44389676,  0.53873022,  0.6752197 ],\n",
       "       [-1.65483588,  2.10850962, -2.01678493, -1.54034493],\n",
       "       [ 1.80146691,  1.1097419 ,  1.22940999,  0.83347431],\n",
       "       [-0.55510317, -0.22194838, -0.08288157,  0.04220123],\n",
       "       [-0.86931252,  4.43896762, -1.94771695, -1.69859955],\n",
       "       [-1.49773121,  3.10727733, -1.87864897, -1.54034493],\n",
       "       [ 0.07331551, -0.22194838,  0.33152629, -0.11605339],\n",
       "       [ 0.38752486, -1.22071609,  0.53873022,  0.99172893],\n",
       "       [ 0.07331551,  0.44389676,  0.26245831,  0.20045585],\n",
       "       [ 2.58699027,  0.44389676,  1.29847797,  1.62474739],\n",
       "       [-0.71220785, -1.22071609, -0.22101753, -0.274308  ],\n",
       "       [ 0.54462953, -0.22194838,  0.95313808,  1.30823816],\n",
       "       [-0.3979985 , -0.22194838,  0.6077982 ,  1.78300201],\n",
       "       [-1.18352186,  2.77435476, -1.87864897, -1.69859955],\n",
       "       [-0.86931252, -1.88656124, -0.15194955,  0.04220123],\n",
       "       [-1.34062654,  1.77558705, -1.94771695, -1.69859955],\n",
       "       [ 0.7017342 , -0.22194838,  0.26245831,  0.35871046],\n",
       "       [ 1.01594355, -1.22071609,  1.09127404,  0.83347431],\n",
       "       [ 1.17304822,  0.44389676,  0.88407011,  1.30823816],\n",
       "       [-1.49773121,  2.10850962, -1.94771695, -1.54034493],\n",
       "       [-0.08378916, -2.21948381,  0.53873022,  0.35871046],\n",
       "       [ 0.38752486,  0.11097419,  0.95313808,  0.83347431],\n",
       "       [ 0.85883887,  0.11097419,  0.26245831,  0.04220123],\n",
       "       [ 2.58699027, -0.88779352,  1.85102178,  1.62474739],\n",
       "       [-0.55510317,  3.10727733, -1.74051302, -1.54034493],\n",
       "       [-1.65483588,  2.44143219, -1.94771695, -1.69859955],\n",
       "       [-1.96904522,  0.44389676, -1.94771695, -1.54034493],\n",
       "       [-1.34062654, -0.55487095, -0.22101753,  0.20045585],\n",
       "       [-1.49773121,  1.77558705, -1.87864897, -1.69859955],\n",
       "       [-0.86931252,  2.10850962, -2.01678493, -1.69859955],\n",
       "       [ 2.58699027,  3.10727733,  1.71288583,  1.46649278],\n",
       "       [ 1.33015289,  0.77681933,  0.81500213,  1.30823816],\n",
       "       [ 1.95857158,  0.11097419,  1.43661392,  0.83347431],\n",
       "       [ 0.54462953, -0.22194838,  0.95313808,  1.46649278],\n",
       "       [ 0.23042019, -0.22194838,  0.40059427,  0.83347431],\n",
       "       [-0.08378916,  1.77558705,  0.19339034,  0.51696508],\n",
       "       [ 2.58699027, -0.22194838,  1.71288583,  1.14998355],\n",
       "       [-0.55510317,  0.44389676, -0.0138136 , -0.11605339],\n",
       "       [-1.96904522,  1.77558705, -1.809581  , -1.69859955],\n",
       "       [-0.55510317, -1.22071609,  0.53873022,  1.14998355],\n",
       "       [ 0.38752486, -0.55487095,  0.46966224,  0.83347431],\n",
       "       [-1.96904522,  0.44389676, -1.94771695, -1.85685417],\n",
       "       [-2.1261499 ,  1.1097419 , -2.01678493, -1.69859955],\n",
       "       [ 0.7017342 ,  0.44389676,  1.09127404,  1.46649278],\n",
       "       [-2.28325457,  1.77558705, -1.94771695, -1.54034493],\n",
       "       [ 0.07331551,  0.44389676,  0.46966224,  0.83347431],\n",
       "       [ 0.7017342 ,  1.1097419 ,  0.6077982 ,  1.14998355],\n",
       "       [ 1.01594355,  0.77681933,  0.12432236,  0.20045585],\n",
       "       [-0.55510317, -0.22194838,  0.19339034,  0.04220123],\n",
       "       [ 1.01594355,  1.44266448,  1.02220606,  1.94125663],\n",
       "       [-0.08378916,  0.44389676,  0.40059427,  0.83347431],\n",
       "       [-1.49773121,  3.10727733, -1.809581  , -1.69859955],\n",
       "       [-0.08378916, -2.21948381, -0.15194955, -0.43256262],\n",
       "       [ 0.54462953,  0.11097419,  0.05525438,  0.04220123],\n",
       "       [ 0.7017342 ,  0.44389676,  0.88407011,  0.83347431],\n",
       "       [-1.65483588, -1.88656124, -0.63542539, -0.43256262],\n",
       "       [ 0.38752486,  1.44266448,  1.22940999,  1.94125663],\n",
       "       [-0.86931252, -1.22071609, -0.15194955,  0.04220123],\n",
       "       [-1.02641719,  2.77435476, -1.87864897, -1.69859955],\n",
       "       [-1.81194055,  0.77681933, -1.87864897, -1.85685417],\n",
       "       [-1.34062654,  4.10604504, -1.87864897, -1.85685417],\n",
       "       [ 1.01594355,  1.44266448,  1.02220606,  1.30823816],\n",
       "       [-2.59746391,  0.44389676, -2.01678493, -1.69859955],\n",
       "       [-0.08378916, -0.55487095,  0.6077982 ,  0.51696508],\n",
       "       [ 0.54462953, -0.55487095,  0.74593415,  0.99172893],\n",
       "       [-0.24089383,  0.44389676,  0.6077982 ,  0.83347431],\n",
       "       [-1.34062654,  2.10850962, -1.87864897, -1.69859955],\n",
       "       [-1.49773121,  1.44266448, -1.74051302, -1.2238357 ],\n",
       "       [-0.3979985 , -0.55487095, -0.08288157, -0.43256262],\n",
       "       [-1.81194055,  0.77681933, -1.87864897, -1.85685417],\n",
       "       [ 2.11567625, -0.22194838,  1.29847797,  0.99172893],\n",
       "       [ 0.23042019,  0.11097419,  0.05525438,  0.04220123],\n",
       "       [ 2.4298856 ,  0.44389676,  1.64381785,  1.30823816],\n",
       "       [ 1.01594355,  0.44389676,  0.67686617,  1.62474739],\n",
       "       [ 0.38752486, -1.88656124,  0.12432236,  0.04220123],\n",
       "       [ 0.23042019,  1.77558705,  0.81500213,  1.62474739],\n",
       "       [ 1.80146691,  2.44143219,  1.29847797,  1.94125663],\n",
       "       [-0.71220785,  0.11097419, -0.42822146,  0.04220123],\n",
       "       [-0.55510317,  5.10481276, -1.87864897, -1.38209032],\n",
       "       [-0.3979985 , -0.55487095, -0.22101753, -0.11605339],\n",
       "       [-2.44035924, -1.88656124, -2.01678493, -1.54034493],\n",
       "       [-0.86931252, -1.55363867, -0.2900855 , -0.274308  ],\n",
       "       [ 1.33015289,  0.77681933,  0.46966224,  0.35871046],\n",
       "       [-1.65483588,  1.77558705, -1.809581  , -1.38209032],\n",
       "       [ 1.17304822, -0.22194838,  0.40059427,  0.20045585],\n",
       "       [-1.65483588,  2.10850962, -1.809581  , -1.06558108],\n",
       "       [-1.96904522,  1.77558705, -1.60237707, -1.69859955],\n",
       "       [ 0.38752486,  1.77558705,  0.95313808,  1.78300201],\n",
       "       [-0.71220785, -0.22194838,  0.46966224,  1.14998355],\n",
       "       [ 1.17304822,  1.1097419 ,  1.16034201,  1.62474739],\n",
       "       [-1.65483588,  1.44266448, -1.94771695, -1.69859955],\n",
       "       [-1.49773121,  2.77435476, -1.87864897, -1.38209032],\n",
       "       [-0.24089383,  1.1097419 ,  0.40059427,  0.83347431],\n",
       "       [-2.28325457,  0.77681933, -1.87864897, -1.69859955],\n",
       "       [-0.3979985 , -0.55487095,  0.6077982 ,  0.99172893],\n",
       "       [-1.96904522,  0.77681933, -1.809581  , -1.69859955],\n",
       "       [ 0.7017342 ,  0.44389676,  0.67686617,  1.14998355],\n",
       "       [-1.81194055, -1.22071609,  0.19339034,  0.6752197 ],\n",
       "       [-2.28325457,  1.1097419 , -1.94771695, -1.69859955],\n",
       "       [ 0.54462953,  1.1097419 ,  0.74593415,  1.62474739],\n",
       "       [-2.75456859,  0.44389676, -2.15492088, -1.85685417],\n",
       "       [-0.71220785,  0.44389676, -0.08288157,  0.04220123],\n",
       "       [-2.59746391,  0.11097419, -1.94771695, -1.69859955],\n",
       "       [-0.86931252, -1.55363867, -0.35915348, -0.43256262],\n",
       "       [-1.65483588, -2.88532895, -0.49728943, -0.43256262],\n",
       "       [-1.49773121,  2.10850962, -1.94771695, -1.69859955],\n",
       "       [-1.81194055,  0.44389676, -1.94771695, -1.69859955],\n",
       "       [-1.81194055, -1.55363867, -0.63542539, -0.43256262],\n",
       "       [-2.28325457,  2.44143219, -2.22398886, -1.69859955],\n",
       "       [-0.24089383,  0.44389676, -0.0138136 ,  0.35871046],\n",
       "       [ 0.07331551,  0.11097419,  0.33152629,  0.20045585],\n",
       "       [-1.65483588,  1.77558705, -1.87864897, -1.69859955],\n",
       "       [ 1.01594355,  0.77681933,  0.33152629,  0.35871046]])"
      ]
     },
     "execution_count": 224,
     "metadata": {},
     "output_type": "execute_result"
    }
   ],
   "source": [
    "X_test_sc"
   ]
  },
  {
   "cell_type": "code",
   "execution_count": 225,
   "metadata": {
    "ExecuteTime": {
     "end_time": "2023-04-01T00:55:17.886563Z",
     "start_time": "2023-04-01T00:55:17.735427Z"
    },
    "collapsed": false
   },
   "outputs": [],
   "source": [
    "# Initialize the Logistic Regression Function and Fits data\n",
    "# Use the cleaned training data earlier\n",
    "logistic_regression = LogisticRegression(random_state = 0).fit(X_train_sc, Y_train)"
   ]
  },
  {
   "cell_type": "code",
   "execution_count": 226,
   "metadata": {
    "ExecuteTime": {
     "end_time": "2023-04-01T00:55:17.890553Z",
     "start_time": "2023-04-01T00:55:17.753394Z"
    },
    "collapsed": false
   },
   "outputs": [
    {
     "data": {
      "text/plain": [
       "array([1, 1, 2, 2, 0, 0, 2, 1, 2, 1, 2, 2, 1, 2, 0], dtype=int8)"
      ]
     },
     "execution_count": 226,
     "metadata": {},
     "output_type": "execute_result"
    }
   ],
   "source": [
    "# Train the logistic regression model on the training data\n",
    "logistic_regression.predict(X_train_sc)"
   ]
  },
  {
   "cell_type": "code",
   "execution_count": 227,
   "metadata": {
    "ExecuteTime": {
     "end_time": "2023-04-01T00:55:17.890553Z",
     "start_time": "2023-04-01T00:55:17.767882Z"
    },
    "collapsed": false
   },
   "outputs": [
    {
     "data": {
      "text/plain": [
       "array([0, 1, 1, 0, 2, 2, 2, 0, 0, 2, 1, 0, 2, 2, 1, 0, 1, 2, 0, 0, 1, 2,\n",
       "       2, 0, 2, 1, 0, 0, 1, 2, 2, 2, 1, 2, 2, 0, 1, 0, 1, 2, 2, 0, 1, 2,\n",
       "       1, 2, 0, 0, 0, 1, 0, 0, 2, 2, 2, 2, 2, 2, 2, 1, 0, 2, 2, 0, 0, 2,\n",
       "       0, 2, 2, 1, 1, 2, 2, 0, 1, 1, 2, 1, 2, 1, 0, 0, 0, 2, 0, 2, 2, 2,\n",
       "       0, 0, 1, 0, 2, 1, 2, 2, 1, 2, 2, 1, 0, 1, 0, 1, 2, 0, 1, 0, 0, 2,\n",
       "       2, 2, 0, 0, 2, 0, 2, 0, 2, 2, 0, 2, 0, 1, 0, 1, 1, 0, 0, 1, 0, 1,\n",
       "       1, 0, 2], dtype=int8)"
      ]
     },
     "execution_count": 227,
     "metadata": {},
     "output_type": "execute_result"
    }
   ],
   "source": [
    "# Now have it predict the test data\n",
    "logistic_regression.predict(X_test_sc)"
   ]
  },
  {
   "cell_type": "code",
   "execution_count": 241,
   "metadata": {
    "ExecuteTime": {
     "end_time": "2023-04-01T00:55:17.890553Z",
     "start_time": "2023-04-01T00:55:17.785857Z"
    },
    "collapsed": false
   },
   "outputs": [
    {
     "name": "stdout",
     "output_type": "stream",
     "text": [
      "93.0 % Accuracy on training data\n"
     ]
    }
   ],
   "source": [
    "# Checks how accurate the output X_train_sc values are\n",
    "print(round(logistic_regression.score(X_train_sc,Y_train),2)*100,\"% Accuracy on training data\")"
   ]
  },
  {
   "cell_type": "code",
   "execution_count": 242,
   "metadata": {
    "ExecuteTime": {
     "end_time": "2023-04-01T00:55:17.891551Z",
     "start_time": "2023-04-01T00:55:17.800796Z"
    },
    "collapsed": false
   },
   "outputs": [
    {
     "name": "stdout",
     "output_type": "stream",
     "text": [
      "91.0 % Accuracy on training data\n"
     ]
    }
   ],
   "source": [
    "# Checks how accurate the output X_test_sc values are\n",
    "# It is fairly a good sign that the accuracy of your train and test X are almost the same\n",
    "# If you had a higher test_size, your accuracy here will be higher\n",
    "print(round(logistic_regression.score(X_test_sc,Y_test),2)*100,\"% Accuracy on test data\")"
   ]
  },
  {
   "cell_type": "markdown",
   "metadata": {
    "collapsed": false
   },
   "source": []
  }
 ],
 "metadata": {
  "kernelspec": {
   "display_name": "Python 3",
   "language": "python",
   "name": "python3"
  },
  "language_info": {
   "codemirror_mode": {
    "name": "ipython",
    "version": 3
   },
   "file_extension": ".py",
   "mimetype": "text/x-python",
   "name": "python",
   "nbconvert_exporter": "python",
   "pygments_lexer": "ipython3",
   "version": "3.11.2"
  }
 },
 "nbformat": 4,
 "nbformat_minor": 0
}
